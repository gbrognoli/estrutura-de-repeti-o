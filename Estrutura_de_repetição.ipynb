{
  "nbformat": 4,
  "nbformat_minor": 0,
  "metadata": {
    "colab": {
      "name": "Estrutura de repetição.ipynb",
      "provenance": [],
      "authorship_tag": "ABX9TyP939do8oMKH+2JncRU3O6E",
      "include_colab_link": true
    },
    "kernelspec": {
      "name": "python3",
      "display_name": "Python 3"
    },
    "language_info": {
      "name": "python"
    }
  },
  "cells": [
    {
      "cell_type": "markdown",
      "metadata": {
        "id": "view-in-github",
        "colab_type": "text"
      },
      "source": [
        "<a href=\"https://colab.research.google.com/github/gbrognoli/estrutura-de-repeti-o/blob/main/Estrutura_de_repeti%C3%A7%C3%A3o.ipynb\" target=\"_parent\"><img src=\"https://colab.research.google.com/assets/colab-badge.svg\" alt=\"Open In Colab\"/></a>"
      ]
    },
    {
      "cell_type": "code",
      "metadata": {
        "colab": {
          "base_uri": "https://localhost:8080/"
        },
        "id": "uUrRZiOaLP2i",
        "outputId": "66deb12f-294a-4441-a750-0c5514a23bcb"
      },
      "source": [
        "print(1)\n",
        "print(2)\n",
        "print(3)\n",
        "print(4)\n",
        "print(5)"
      ],
      "execution_count": 10,
      "outputs": [
        {
          "output_type": "stream",
          "text": [
            "1\n",
            "2\n",
            "3\n",
            "4\n",
            "5\n"
          ],
          "name": "stdout"
        }
      ]
    },
    {
      "cell_type": "code",
      "metadata": {
        "colab": {
          "base_uri": "https://localhost:8080/"
        },
        "id": "zF3q0FJ-LpDP",
        "outputId": "2b1b1d31-8c00-415e-b505-b1d099dbaafb"
      },
      "source": [
        "for numero in range(1, 6):\n",
        "  print(numero)"
      ],
      "execution_count": 11,
      "outputs": [
        {
          "output_type": "stream",
          "text": [
            "1\n",
            "2\n",
            "3\n",
            "4\n",
            "5\n"
          ],
          "name": "stdout"
        }
      ]
    },
    {
      "cell_type": "code",
      "metadata": {
        "colab": {
          "base_uri": "https://localhost:8080/"
        },
        "id": "GepQpRflL9CK",
        "outputId": "45161f44-3ed9-417e-f960-2085c68c7387"
      },
      "source": [
        "for numero in range(5, 0, -1):\n",
        "  print(numero)"
      ],
      "execution_count": 12,
      "outputs": [
        {
          "output_type": "stream",
          "text": [
            "5\n",
            "4\n",
            "3\n",
            "2\n",
            "1\n"
          ],
          "name": "stdout"
        }
      ]
    },
    {
      "cell_type": "code",
      "metadata": {
        "colab": {
          "base_uri": "https://localhost:8080/"
        },
        "id": "EoYa6Q2xMI11",
        "outputId": "afcd1b15-4f3d-4682-91ce-d6e16d4d141b"
      },
      "source": [
        "5 + + 4 + 3 + 2 +1"
      ],
      "execution_count": 13,
      "outputs": [
        {
          "output_type": "execute_result",
          "data": {
            "text/plain": [
              "15"
            ]
          },
          "metadata": {
            "tags": []
          },
          "execution_count": 13
        }
      ]
    },
    {
      "cell_type": "code",
      "metadata": {
        "colab": {
          "base_uri": "https://localhost:8080/"
        },
        "id": "2OdpV4I2MPqB",
        "outputId": "3786b404-9625-4274-d269-6123723ad0f6"
      },
      "source": [
        "soma = 0\n",
        "for numero in range(1, 6):\n",
        "  soma = soma +  numero\n",
        "  #print(soma)\n",
        "\n",
        "print(soma)"
      ],
      "execution_count": 14,
      "outputs": [
        {
          "output_type": "stream",
          "text": [
            "15\n"
          ],
          "name": "stdout"
        }
      ]
    },
    {
      "cell_type": "code",
      "metadata": {
        "colab": {
          "base_uri": "https://localhost:8080/"
        },
        "id": "sPiIK6cnRBrm",
        "outputId": "99da09ea-46a3-4d8b-832f-397400ea333b"
      },
      "source": [
        "palavra = 'sorvete'\n",
        "for letra in palavra:\n",
        "  #print(letra)\n",
        "  if letra == 'v':\n",
        "     print('Achou a letra v')"
      ],
      "execution_count": 18,
      "outputs": [
        {
          "output_type": "stream",
          "text": [
            "Achou a letra v\n"
          ],
          "name": "stdout"
        }
      ]
    },
    {
      "cell_type": "code",
      "metadata": {
        "colab": {
          "base_uri": "https://localhost:8080/"
        },
        "id": "aWUtqIO0R16i",
        "outputId": "39340763-5287-43ee-b821-a468009b29aa"
      },
      "source": [
        "for i in range(0,5):\n",
        "  print(i)\n",
        "  print('---')\n",
        "  for j in range(0,3):\n",
        "    print(j)\n",
        "  print()\n"
      ],
      "execution_count": 24,
      "outputs": [
        {
          "output_type": "stream",
          "text": [
            "0\n",
            "---\n",
            "0\n",
            "1\n",
            "2\n",
            "\n",
            "1\n",
            "---\n",
            "0\n",
            "1\n",
            "2\n",
            "\n",
            "2\n",
            "---\n",
            "0\n",
            "1\n",
            "2\n",
            "\n",
            "3\n",
            "---\n",
            "0\n",
            "1\n",
            "2\n",
            "\n",
            "4\n",
            "---\n",
            "0\n",
            "1\n",
            "2\n",
            "\n"
          ],
          "name": "stdout"
        }
      ]
    },
    {
      "cell_type": "code",
      "metadata": {
        "id": "AETQxAmKMCrN"
      },
      "source": [
        ""
      ],
      "execution_count": null,
      "outputs": []
    }
  ]
}